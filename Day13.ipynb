{
 "cells": [
  {
   "cell_type": "code",
   "execution_count": null,
   "metadata": {
    "dotnet_interactive": {
     "language": "csharp"
    }
   },
   "outputs": [],
   "source": [
    "string filename = @\"C:\\Temp\\Advent of Code 2021\\Day13.txt\";\n",
    "string[] raw_lines = System.IO.File.ReadAllLines(filename);"
   ]
  },
  {
   "cell_type": "code",
   "execution_count": null,
   "metadata": {
    "dotnet_interactive": {
     "language": "csharp"
    }
   },
   "outputs": [
    {
     "name": "stdout",
     "output_type": "stream",
     "text": [
      "BoardSize: [1311,895]\r\n"
     ]
    }
   ],
   "source": [
    "List<string> dots = new();\n",
    "List<string> folds = new();\n",
    "\n",
    "bool isDots = true;\n",
    "\n",
    "foreach (var line in raw_lines)\n",
    "{\n",
    "    if (line == \"\") {\n",
    "        isDots = false;\n",
    "        continue;\n",
    "    }\n",
    "    if (isDots) {\n",
    "        dots.Add(line);\n",
    "    } else {\n",
    "        folds.Add(line);\n",
    "    }\n",
    "}\n",
    "\n",
    "int max_x = 0;\n",
    "int max_y = 0;\n",
    "\n",
    "foreach (var line in dots) {\n",
    "    string[] l = line.Split(\",\");\n",
    "    max_x = Math.Max(max_x, int.Parse(l[0]));\n",
    "    max_y = Math.Max(max_y, int.Parse(l[1]));\n",
    "}\n",
    "\n",
    "max_x++;\n",
    "max_y++;\n",
    "\n",
    "int[,] board = new int[max_x,max_y];\n",
    "\n",
    "void PrintBoard(int[,] board){\n",
    "    for(int j=0;j<board.GetLength(1);j++) {\n",
    "        for (int i=0;i<board.GetLength(0);i++){\n",
    "            Console.Write($\"{board[i,j]} \");\n",
    "        }\n",
    "        Console.WriteLine();\n",
    "    }\n",
    "    Console.WriteLine();\n",
    "}\n",
    "\n",
    "// PrintBoard();\n",
    "\n",
    "int x,y;\n",
    "\n",
    "foreach (var line in dots) {\n",
    "    string[] l = line.Split(\",\");\n",
    "    x = int.Parse(l[0]);\n",
    "    y = int.Parse(l[1]);\n",
    "\n",
    "    // Console.WriteLine($\"{x},{y}\");\n",
    "    board[x,y] = 1;\n",
    "}\n",
    "\n",
    "Console.WriteLine($\"BoardSize: [{max_x},{max_y}]\")\n",
    "\n",
    "// PrintBoard(board);"
   ]
  },
  {
   "cell_type": "code",
   "execution_count": null,
   "metadata": {
    "dotnet_interactive": {
     "language": "csharp"
    }
   },
   "outputs": [
    {
     "name": "stdout",
     "output_type": "stream",
     "text": [
      "Visible dots: 720\r\n",
      "Visible dots: 594\r\n",
      "Visible dots: 510\r\n",
      "Visible dots: 417\r\n",
      "Visible dots: 354\r\n",
      "Visible dots: 281\r\n",
      "Visible dots: 234\r\n",
      "Visible dots: 201\r\n",
      "Visible dots: 167\r\n",
      "Visible dots: 145\r\n",
      "Visible dots: 122\r\n",
      "Visible dots: 104\r\n",
      "0 2 11 0 0 10 0 0 6 0 16 8 8 0 0 3 2 4 0 0 23 6 1 0 0 0 4 13 0 0 10 0 0 3 0 2 2 9 17 0 \r\n",
      "2 0 0 16 0 9 0 0 5 0 10 0 0 2 0 13 0 0 16 0 10 0 0 9 0 3 0 0 23 0 5 0 0 19 0 0 0 0 7 0 \r\n",
      "2 0 0 10 0 23 12 3 5 0 8 0 0 5 0 6 0 0 6 0 8 0 0 12 0 2 0 0 3 0 2 0 0 10 0 0 0 8 0 0 \r\n",
      "11 5 3 17 0 3 0 0 10 0 5 13 2 0 0 3 8 5 0 0 9 11 9 0 0 8 11 9 7 0 6 0 0 5 0 0 18 0 0 0 \r\n",
      "4 0 0 11 0 11 0 0 3 0 15 0 0 0 0 3 0 25 0 0 1 0 0 0 0 5 0 0 5 0 9 0 0 11 0 5 0 0 0 0 \r\n",
      "5 0 0 5 0 1 0 0 13 0 8 0 0 0 0 4 0 0 6 0 6 0 0 0 0 2 0 0 22 0 0 17 1 0 0 15 1 1 9 0 \r\n",
      "\r\n"
     ]
    }
   ],
   "source": [
    "// string foldInstructions = folds[0];\n",
    "\n",
    "// PrintBoard(board);\n",
    "\n",
    "foreach (var foldInstruction in folds) {\n",
    "    int count = 0;\n",
    "    string foldInstructions = foldInstruction;\n",
    "    foldInstructions = foldInstructions.Substring(11);\n",
    "    bool isFoldX = foldInstructions[0..1] == \"x\";\n",
    "\n",
    "    int max_x_new = max_x;\n",
    "    int max_y_new = max_y;\n",
    "\n",
    "    if (isFoldX){\n",
    "        max_x_new = int.Parse(foldInstructions.Split(\"=\")[1]);\n",
    "    } else {\n",
    "        max_y_new = int.Parse(foldInstructions.Split(\"=\")[1]);\n",
    "    }\n",
    "\n",
    "    int[,] boardNew = new int[max_x_new, max_y_new];\n",
    "\n",
    "    // PrintBoard(boardNew);\n",
    "\n",
    "    for(int j=0;j<max_y;j++) {\n",
    "        int y;\n",
    "        if (j == max_y_new) {\n",
    "            continue;\n",
    "        }\n",
    "        if (max_y_new < max_y){\n",
    "            y = (j < max_y_new) ? j : max_y - j - 1;\n",
    "        } else {\n",
    "            y = j;\n",
    "        }\n",
    "        // Console.WriteLine($\"x_new:{max_x_new} y_new:{max_y_new}  j:{j}  \");\n",
    "        for (int i=0;i<max_x;i++){\n",
    "            int x;\n",
    "            if (i == max_x_new){\n",
    "                continue;\n",
    "            }\n",
    "            if (max_x_new < max_x){\n",
    "                x = (i < max_x_new) ? i : max_x - i - 1;\n",
    "            } else {\n",
    "                x = i;\n",
    "            }\n",
    "            // Console.Write($\"{x},{y} \");\n",
    "            boardNew[x,y] += board[i,j];\n",
    "        }\n",
    "    }\n",
    "    // PrintBoard(boardNew);\n",
    "    board = boardNew;\n",
    "    max_x = max_x_new;\n",
    "    max_y = max_y_new;\n",
    "\n",
    "    for(int j=0;j<boardNew.GetLength(1);j++) {\n",
    "        for (int i=0;i<boardNew.GetLength(0);i++){\n",
    "            count += (boardNew[i,j] > 0) ? 1 : 0;\n",
    "        }\n",
    "    }\n",
    "    Console.WriteLine($\"Visible dots: {count}\");\n",
    "    // break;\n",
    "}\n",
    "\n",
    "for(int j=0;j<board.GetLength(1);j++) {\n",
    "    for (int i=0;i<board.GetLength(0);i++){\n",
    "        board[i,j] += (board[i,j] > 0) ? 1 : 0;\n",
    "    }\n",
    "}\n",
    "\n",
    "PrintBoard(board);\n"
   ]
  }
 ],
 "metadata": {
  "kernelspec": {
   "display_name": ".NET (C#)",
   "language": "C#",
   "name": ".net-csharp"
  },
  "language_info": {
   "name": "C#"
  }
 },
 "nbformat": 4,
 "nbformat_minor": 2
}
