{
 "cells": [
  {
   "cell_type": "code",
   "execution_count": 477,
   "id": "78794b99",
   "metadata": {},
   "outputs": [],
   "source": [
    "fileName = \"Day4.txt\"\n",
    "\n",
    "def readFile(fileName):\n",
    "        fileObj = open(fileName, \"r\") #opens the file in read mode\n",
    "        words = fileObj.readlines() #puts the file into an array\n",
    "        fileObj.close()\n",
    "        return words\n",
    "\n",
    "lines = readFile(fileName) \n",
    "\n",
    "numbers = []\n",
    "\n",
    "for line in lines:\n",
    "    numbers.append(line[0:-1:1])\n"
   ]
  },
  {
   "cell_type": "code",
   "execution_count": 478,
   "id": "9558e8dc",
   "metadata": {},
   "outputs": [],
   "source": [
    "draw = numbers[0].split(',')\n",
    "#print(draw)"
   ]
  },
  {
   "cell_type": "code",
   "execution_count": 479,
   "id": "abd22e71",
   "metadata": {},
   "outputs": [],
   "source": [
    "boards = []\n",
    "board = []\n",
    "boardWon = False\n",
    "winningBoard = -1"
   ]
  },
  {
   "cell_type": "code",
   "execution_count": 480,
   "id": "4922f554",
   "metadata": {},
   "outputs": [],
   "source": [
    "def printBoards():\n",
    "    for i in range(len(boards)):\n",
    "        for j in range(len(boards[i])):\n",
    "            print (boards[i][j])\n",
    "        print()\n",
    "\n",
    "def printBoard(i):\n",
    "    for j in range(len(boards[i])):\n",
    "        print (boards[i][j])\n",
    "    print()\n",
    "\n"
   ]
  },
  {
   "cell_type": "code",
   "execution_count": 481,
   "id": "82986993",
   "metadata": {},
   "outputs": [],
   "source": [
    "def markBoard(value):\n",
    "    for i in range(len(boards)):\n",
    "        for j in range(len(boards[i])):\n",
    "            for k in range(len(boards[i][j])):\n",
    "                if (boards[i][j][k] == value):\n",
    "                    boards[i][j][k] = 'X'"
   ]
  },
  {
   "cell_type": "code",
   "execution_count": 482,
   "id": "e4e7100f",
   "metadata": {},
   "outputs": [],
   "source": [
    "boards = []\n",
    "board = []\n",
    "\n",
    "for line in numbers[2:-1]:\n",
    "    #print(len(board),line)\n",
    "        \n",
    "    if (line == ''):\n",
    "        #print(board)\n",
    "        boards.append(board)\n",
    "        board = []\n",
    "        continue\n",
    "    \n",
    "    board.append(line.split())\n",
    "    #print(line)\n",
    "\n",
    "boards.append(board)"
   ]
  },
  {
   "cell_type": "code",
   "execution_count": 483,
   "id": "e6b05a62",
   "metadata": {},
   "outputs": [
    {
     "ename": "IndexError",
     "evalue": "list index out of range",
     "output_type": "error",
     "traceback": [
      "\u001b[0;31m---------------------------------------------------------------------------\u001b[0m",
      "\u001b[0;31mIndexError\u001b[0m                                Traceback (most recent call last)",
      "\u001b[0;32m/tmp/ipykernel_78/3775004274.py\u001b[0m in \u001b[0;36m<module>\u001b[0;34m\u001b[0m\n\u001b[1;32m     35\u001b[0m     \u001b[0mj\u001b[0m \u001b[0;34m=\u001b[0m \u001b[0mdraw\u001b[0m\u001b[0;34m[\u001b[0m\u001b[0mi\u001b[0m\u001b[0;34m]\u001b[0m\u001b[0;34m\u001b[0m\u001b[0;34m\u001b[0m\u001b[0m\n\u001b[1;32m     36\u001b[0m     \u001b[0mmarkBoard\u001b[0m\u001b[0;34m(\u001b[0m\u001b[0mj\u001b[0m\u001b[0;34m)\u001b[0m\u001b[0;34m\u001b[0m\u001b[0;34m\u001b[0m\u001b[0m\n\u001b[0;32m---> 37\u001b[0;31m     \u001b[0mwinners\u001b[0m \u001b[0;34m=\u001b[0m \u001b[0mcheckBoard\u001b[0m\u001b[0;34m(\u001b[0m\u001b[0;34m)\u001b[0m\u001b[0;34m\u001b[0m\u001b[0;34m\u001b[0m\u001b[0m\n\u001b[0m\u001b[1;32m     38\u001b[0m     \u001b[0;31m#print(i, j, len(winners), winners)\u001b[0m\u001b[0;34m\u001b[0m\u001b[0;34m\u001b[0m\u001b[0m\n\u001b[1;32m     39\u001b[0m     \u001b[0;32mif\u001b[0m \u001b[0;34m(\u001b[0m\u001b[0mlen\u001b[0m\u001b[0;34m(\u001b[0m\u001b[0mwinners\u001b[0m\u001b[0;34m)\u001b[0m \u001b[0;34m==\u001b[0m \u001b[0mlen\u001b[0m\u001b[0;34m(\u001b[0m\u001b[0mboards\u001b[0m\u001b[0;34m)\u001b[0m\u001b[0;34m)\u001b[0m\u001b[0;34m:\u001b[0m\u001b[0;34m\u001b[0m\u001b[0;34m\u001b[0m\u001b[0m\n",
      "\u001b[0;32m/tmp/ipykernel_78/3775004274.py\u001b[0m in \u001b[0;36mcheckBoard\u001b[0;34m()\u001b[0m\n\u001b[1;32m     21\u001b[0m                     \u001b[0mmatch_row\u001b[0m \u001b[0;34m+=\u001b[0m \u001b[0;36m1\u001b[0m\u001b[0;34m\u001b[0m\u001b[0;34m\u001b[0m\u001b[0m\n\u001b[1;32m     22\u001b[0m \u001b[0;34m\u001b[0m\u001b[0m\n\u001b[0;32m---> 23\u001b[0;31m                 \u001b[0;32mif\u001b[0m \u001b[0mboards\u001b[0m\u001b[0;34m[\u001b[0m\u001b[0mi\u001b[0m\u001b[0;34m]\u001b[0m\u001b[0;34m[\u001b[0m\u001b[0mk\u001b[0m\u001b[0;34m]\u001b[0m\u001b[0;34m[\u001b[0m\u001b[0mj\u001b[0m\u001b[0;34m]\u001b[0m \u001b[0;34m==\u001b[0m \u001b[0;34m'X'\u001b[0m\u001b[0;34m:\u001b[0m\u001b[0;34m\u001b[0m\u001b[0;34m\u001b[0m\u001b[0m\n\u001b[0m\u001b[1;32m     24\u001b[0m                     \u001b[0mmatch_col\u001b[0m \u001b[0;34m+=\u001b[0m \u001b[0;36m1\u001b[0m\u001b[0;34m\u001b[0m\u001b[0;34m\u001b[0m\u001b[0m\n\u001b[1;32m     25\u001b[0m \u001b[0;34m\u001b[0m\u001b[0m\n",
      "\u001b[0;31mIndexError\u001b[0m: list index out of range"
     ]
    }
   ],
   "source": [
    "# 4B\n",
    "\n",
    "def printScore(board_num):\n",
    "    board = boards[board_num]\n",
    "    score = 0\n",
    "    for row in board:\n",
    "        for col in row:\n",
    "            if not (col == 'X'):\n",
    "                score += int(col)\n",
    "                print(col, score)\n",
    "    return score\n",
    "\n",
    "def checkBoard():\n",
    "    winners = []\n",
    "    for i in range(len(boards)):\n",
    "        for j in range(5):\n",
    "            match_row = 0\n",
    "            match_col = 0\n",
    "            for k in range(5):\n",
    "                if boards[i][j][k] == 'X':\n",
    "                    match_row += 1\n",
    "                    \n",
    "                if boards[i][k][j] == 'X':\n",
    "                    match_col += 1\n",
    "                    \n",
    "            if (match_row == 5 or match_col == 5):\n",
    "                winners.append(i)\n",
    "                \n",
    "    return winners\n",
    "\n",
    "\n",
    "for i in range(len(draw)):\n",
    "#for i in range(12):\n",
    "    oldwinners = winners\n",
    "    j = draw[i]\n",
    "    markBoard(j) \n",
    "    winners = checkBoard() \n",
    "    #print(i, j, len(winners), winners)\n",
    "    if (len(winners) == len(boards)):\n",
    "        winner = -1\n",
    "        print()\n",
    "        for item in winners:\n",
    "            if not (winner == -1):\n",
    "                break\n",
    "            for item2 in oldwinners:\n",
    "                print(item, item2, winner)\n",
    "                if (item == item2):\n",
    "                    break\n",
    "                else:\n",
    "                    print(item, item2)\n",
    "                    winner = item\n",
    "        score = printScore(winner)\n",
    "        #print(i, j, winner, score, oldwinners, winners)\n",
    "        print( int(j) * int(score))\n",
    "        print()\n",
    "        printBoards()\n",
    "        break\n",
    "\n",
    "          \n",
    "            "
   ]
  },
  {
   "cell_type": "code",
   "execution_count": 391,
   "id": "7835a1c2",
   "metadata": {},
   "outputs": [
    {
     "name": "stdout",
     "output_type": "stream",
     "text": [
      "0 7 2 149\n",
      "1043\n"
     ]
    }
   ],
   "source": [
    "def printScore(board_num):\n",
    "    board = boards[board_num]\n",
    "    score = 0\n",
    "    for row in board:\n",
    "        for col in row:\n",
    "            if not (col == 'X'):\n",
    "                score += int(col)\n",
    "    return score\n",
    "    \n",
    "def checkBoard():\n",
    "    winner = -1\n",
    "    for i in range(len(boards)):\n",
    "        for j in range(5):\n",
    "            match_row = 0\n",
    "            match_col = 0\n",
    "            for k in range(5):\n",
    "                if boards[i][j][k] == 'X':\n",
    "                    match_row += 1\n",
    "                    \n",
    "                if boards[i][k][j] == 'X':\n",
    "                    match_col += 1\n",
    "                    \n",
    "            if (match_row == 5 or match_col == 5):\n",
    "                boardWon = True\n",
    "                winningBoard = i\n",
    "                #print(i,j,k)\n",
    "                #print(\"Winningboard:\", winningBoard+1)\n",
    "                #printBoard(winningBoard)\n",
    "                winner = i\n",
    "    return winner\n",
    "\n",
    "for i in range(len(draw)):\n",
    "    j = draw[i]\n",
    "    markBoard(j) \n",
    "    winner = checkBoard() \n",
    "    if ( winner > 0):\n",
    "        score = printScore(winner)\n",
    "        print(i, j, winner, score)\n",
    "        print( int(j) * int(score))\n",
    "        break\n",
    "        \n",
    "#printBoards()\n"
   ]
  },
  {
   "cell_type": "code",
   "execution_count": 268,
   "id": "8753d7b1",
   "metadata": {},
   "outputs": [
    {
     "name": "stdout",
     "output_type": "stream",
     "text": [
      "-1\n"
     ]
    }
   ],
   "source": [
    "print(checkBoard())\n"
   ]
  },
  {
   "cell_type": "code",
   "execution_count": 241,
   "id": "bf60d135",
   "metadata": {},
   "outputs": [
    {
     "name": "stdout",
     "output_type": "stream",
     "text": [
      "['X', '13', '17', '11', '0']\n",
      "['8', 'X', '23', '4', '24']\n",
      "['21', '9', 'X', '16', '7']\n",
      "['6', 'X', '3', 'X', '5']\n",
      "['1', '12', '20', '15', '19']\n",
      "\n",
      "['3', '15', '0', 'X', 'X']\n",
      "['9', 'X', '13', '17', '5']\n",
      "['19', '8', '7', '25', '23']\n",
      "['20', '11', 'X', '24', '4']\n",
      "['X', '21', '16', '12', '6']\n",
      "\n",
      "['X', '21', '17', '24', '4']\n",
      "['X', '16', '15', '9', '19']\n",
      "['X', '8', '23', '26', '20']\n",
      "['X', '11', '13', '6', '5']\n",
      "['X', '0', '12', '3', '7']\n",
      "\n",
      "2 0 4\n",
      "Winningboard: 3\n",
      "['X', '21', '17', '24', '4']\n",
      "['X', '16', '15', '9', '19']\n",
      "['X', '8', '23', '26', '20']\n",
      "['X', '11', '13', '6', '5']\n",
      "['X', '0', '12', '3', '7']\n",
      "\n"
     ]
    }
   ],
   "source": [
    "markBoard('14')\n",
    "markBoard('10')\n",
    "markBoard('18')\n",
    "markBoard('22')\n",
    "markBoard('2')\n",
    "printBoards()\n",
    "\n",
    "checkBoard()"
   ]
  },
  {
   "cell_type": "code",
   "execution_count": 215,
   "id": "44e1828e",
   "metadata": {},
   "outputs": [
    {
     "name": "stdout",
     "output_type": "stream",
     "text": [
      "1 2 4\n",
      "Winningboard: 2\n",
      "['3', '15', '0', 'X', 'X']\n",
      "['9', 'X', '13', '17', '5']\n",
      "['X', 'X', 'X', 'X', 'X']\n",
      "['20', '11', 'X', '24', '4']\n",
      "['X', '21', '16', '12', '6']\n",
      "\n",
      "2 0 4\n",
      "Winningboard: 3\n",
      "['X', '21', '17', '24', '4']\n",
      "['X', '16', '15', '9', 'X']\n",
      "['X', 'X', 'X', '26', '20']\n",
      "['X', '11', '13', '6', '5']\n",
      "['X', '0', '12', '3', 'X']\n",
      "\n"
     ]
    }
   ],
   "source": [
    "markBoard('19')\n",
    "markBoard('8')\n",
    "markBoard('7')\n",
    "markBoard('25')\n",
    "markBoard('23')\n",
    "checkBoard()\n"
   ]
  },
  {
   "cell_type": "code",
   "execution_count": null,
   "id": "94c6bb7f",
   "metadata": {},
   "outputs": [],
   "source": []
  }
 ],
 "metadata": {
  "kernelspec": {
   "display_name": "Python 3 (ipykernel)",
   "language": "python",
   "name": "python3"
  },
  "language_info": {
   "codemirror_mode": {
    "name": "ipython",
    "version": 3
   },
   "file_extension": ".py",
   "mimetype": "text/x-python",
   "name": "python",
   "nbconvert_exporter": "python",
   "pygments_lexer": "ipython3",
   "version": "3.9.7"
  }
 },
 "nbformat": 4,
 "nbformat_minor": 5
}
