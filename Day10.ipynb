{
 "cells": [
  {
   "cell_type": "code",
   "execution_count": null,
   "metadata": {
    "dotnet_interactive": {
     "language": "csharp"
    }
   },
   "outputs": [],
   "source": [
    "string filename = @\"C:\\Temp\\Advent of Code 2021\\Day10.txt\";\n",
    "string[] raw_lines = System.IO.File.ReadAllLines(filename);"
   ]
  },
  {
   "cell_type": "code",
   "execution_count": null,
   "metadata": {
    "dotnet_interactive": {
     "language": "csharp"
    }
   },
   "outputs": [],
   "source": [
    "char[] opening = {'(', '[', '{', '<'};\n",
    "char[] closing = {')', ']', '}', '>'};\n",
    "\n",
    "int[] score = {3, 57, 1197, 25137};\n"
   ]
  },
  {
   "cell_type": "code",
   "execution_count": null,
   "metadata": {
    "dotnet_interactive": {
     "language": "csharp"
    }
   },
   "outputs": [
    {
     "data": {
      "text/html": [
       "<div class=\"dni-plaintext\">299793</div>"
      ]
     },
     "metadata": {},
     "output_type": "display_data"
    }
   ],
   "source": [
    "List<int> openUsed;\n",
    "List<char> errors = new();\n",
    "\n",
    "List<string> incompleteRows = new();\n",
    "\n",
    "int lastOpen(char[] chars, int highestIndex){\n",
    "    for (int i=highestIndex;i>=0;i--){\n",
    "        if (openUsed.Contains(i)) {\n",
    "            continue;\n",
    "        }\n",
    "\n",
    "        bool isOpeningChar = Array.IndexOf(opening, chars[i]) >= 0;\n",
    "        if (isOpeningChar) {\n",
    "            // Console.WriteLine($\"LO|{i}{chars[i]} MAX{highestIndex}\");\n",
    "\n",
    "            return i;\n",
    "        }\n",
    "    }\n",
    "    return -1;\n",
    "}\n",
    "\n",
    "foreach (var line in raw_lines){\n",
    "    bool isCorrupted = false;\n",
    "    openUsed = new();\n",
    "    // var line = raw_lines[0];\n",
    "    var chars = line.ToCharArray();\n",
    "\n",
    "    for (int i=0;i<chars.Count();i++){\n",
    "        if (isCorrupted){\n",
    "            break;\n",
    "        }\n",
    "        bool isOpeningChar = Array.IndexOf(opening, chars[i]) >= 0;\n",
    "\n",
    "        if (!isOpeningChar) {\n",
    "            int charIndex = Array.IndexOf(closing, chars[i]);\n",
    "            // Console.WriteLine($\"{i}:{chars[i]}\");\n",
    "            int lastOpenIndex = lastOpen(chars, i);\n",
    "            openUsed.Add(lastOpenIndex);\n",
    "            int openingCharIndex = Array.IndexOf(opening, chars[lastOpenIndex]);\n",
    "            if(charIndex != openingCharIndex){\n",
    "                errors.Add(chars[i]);\n",
    "                isCorrupted = true;\n",
    "                // Console.WriteLine($\"{i}:{chars[i]} {lastOpenIndex}:{chars[lastOpenIndex]} ERRR\");\n",
    "                break;\n",
    "            }\n",
    "            // Console.WriteLine($\"{i}:{chars[i]} {lastOpenIndex}:{chars[lastOpenIndex]}\");\n",
    "        }\n",
    "    }\n",
    "    if (!isCorrupted) {\n",
    "    incompleteRows.Add(line);\n",
    "    }\n",
    "}\n",
    "\n",
    "\n",
    "int sum =0;\n",
    "foreach (var e in errors) {\n",
    "    int index = Array.IndexOf(closing, e);\n",
    "    sum += score[index];\n",
    "}\n",
    "sum"
   ]
  },
  {
   "cell_type": "code",
   "execution_count": null,
   "metadata": {
    "dotnet_interactive": {
     "language": "csharp"
    }
   },
   "outputs": [
    {
     "data": {
      "text/html": [
       "<div class=\"dni-plaintext\">3654963618</div>"
      ]
     },
     "metadata": {},
     "output_type": "display_data"
    }
   ],
   "source": [
    "\n",
    "List<int> closingRequired ;\n",
    "\n",
    "List<long> listOfScore = new();\n",
    "\n",
    "\n",
    "foreach (var line in incompleteRows){\n",
    "\n",
    "    char[] chars = line.ToCharArray();\n",
    "    closingRequired = new();\n",
    "\n",
    "    foreach (var c in chars) {\n",
    "        bool isOpeningChar = Array.IndexOf(opening, c) >= 0;\n",
    "        if (isOpeningChar) {\n",
    "            int openingIndex = Array.IndexOf(opening, c);\n",
    "            closingRequired.Insert(0,openingIndex);\n",
    "        } else {\n",
    "            int closingIndex = Array.IndexOf(closing, c);\n",
    "            if (closingIndex == closingRequired[0]) {\n",
    "                closingRequired.RemoveAt(0);\n",
    "            }\n",
    "        }\n",
    "    }\n",
    "\n",
    "    long score = 0;\n",
    "\n",
    "    foreach (var c in closingRequired) {\n",
    "        score = (score * 5) + (c + 1);\n",
    "    }\n",
    "    // Console.WriteLine($\"{line} | {score}\");\n",
    "    listOfScore.Add(score);\n",
    "}\n",
    "\n",
    "var stortedList =  listOfScore.OrderBy(n => n).ToList();\n",
    "\n",
    "var value= stortedList[stortedList.Count()/2];\n",
    "value"
   ]
  }
 ],
 "metadata": {
  "kernelspec": {
   "display_name": ".NET (C#)",
   "language": "C#",
   "name": ".net-csharp"
  },
  "language_info": {
   "name": "C#"
  }
 },
 "nbformat": 4,
 "nbformat_minor": 2
}
