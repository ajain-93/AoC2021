{
 "cells": [
  {
   "cell_type": "code",
   "execution_count": null,
   "metadata": {
    "dotnet_interactive": {
     "language": "csharp"
    }
   },
   "outputs": [],
   "source": [
    "string filename = @\"C:\\Temp\\Jupyter\\Day5.txt\";\n",
    "\n",
    "string[] fileLines = System.IO.File.ReadAllLines(filename);"
   ]
  },
  {
   "cell_type": "code",
   "execution_count": null,
   "metadata": {
    "dotnet_interactive": {
     "language": "csharp"
    }
   },
   "outputs": [],
   "source": [
    "class Line{\n",
    "    public int[] start;\n",
    "    public int[] end;\n",
    "\n",
    "    public Line(int[] start, int[] end){\n",
    "        this.start = start;\n",
    "        this.end = end;\n",
    "    }\n",
    "\n",
    "    public string ToString() {\n",
    "        return $\"{start[0]},{start[1]} -> {end[0]},{end[1]}\";\n",
    "    }\n",
    "}"
   ]
  },
  {
   "cell_type": "code",
   "execution_count": null,
   "metadata": {
    "dotnet_interactive": {
     "language": "csharp"
    }
   },
   "outputs": [],
   "source": [
    "class Board {\n",
    "    int max_x;\n",
    "    int max_y;\n",
    "\n",
    "    int[,] graph;\n",
    "\n",
    "    public Board(int x, int y){\n",
    "        max_x = x;\n",
    "        max_y = y;\n",
    "        graph = new int[x,y];\n",
    "    }\n",
    "\n",
    "    public void Print() {\n",
    "        for (int y=0; y<max_y; y++) {\n",
    "            for (int x=0; x<max_x; x++) {\n",
    "                Console.Write($\"{graph[x,y]} \");\n",
    "            }\n",
    "            Console.WriteLine();\n",
    "        }\n",
    "    }\n",
    "\n",
    "    public void Populate(List<Line> lines){\n",
    "        int count = 0;\n",
    "        foreach (var line in lines) {\n",
    "            int len = -1;\n",
    "            bool isVertical = (line.start[0] == line.end[0]);\n",
    "            bool isHorizontal = (line.start[1] == line.end[1]);\n",
    "            if (isVertical){\n",
    "                len = Math.Abs(line.start[1]-line.end[1])+1;\n",
    "                int start = Math.Min(line.start[1],line.end[1]);\n",
    "                int end = Math.Max(line.start[1],line.end[1]);\n",
    "                int x = line.start[0];\n",
    "\n",
    "                // Console.WriteLine($\"{x} | {start} -> {end}\");\n",
    "                for (int i=start;i<=end;i++){\n",
    "                    this.graph[x,i] += 1;\n",
    "                }\n",
    "            } else if (isHorizontal) {\n",
    "                len = Math.Abs(line.start[0]-line.end[0])+1;\n",
    "                int start = Math.Min(line.start[0],line.end[0]);\n",
    "                int end = Math.Max(line.start[0],line.end[0]);\n",
    "                int y = line.start[1];\n",
    "\n",
    "                // Console.WriteLine($\"{start} -> {end} | {y}\");\n",
    "                for (int i=start;i<=end;i++){\n",
    "                    this.graph[i,y] += 1;\n",
    "                }\n",
    "            } else {\n",
    "                // Console.WriteLine($\"{start} -> {end} | {y}\");\n",
    "                // Console.WriteLine(line.ToString());\n",
    "                bool right = (line.start[0]<line.end[0]);\n",
    "                bool down = (line.start[1]<line.end[1]);\n",
    "                int x = line.start[0];\n",
    "                int y = line.start[1];\n",
    "                this.graph[x,y] += 1;\n",
    "                do {\n",
    "                    // Console.WriteLine($\"{line.ToString()} | {x},{y}\");\n",
    "                    x += right ? 1 : -1;\n",
    "                    y += down ? 1 : -1;\n",
    "                    this.graph[x,y] += 1;\n",
    "                } while (x != line.end[0]);\n",
    "            }\n",
    "            // Console.WriteLine($\"{line.ToString()} | Lenth: {len}\");\n",
    "            // if (count++ >=1)\n",
    "            //     return;\n",
    "        }\n",
    "    }\n",
    "\n",
    "    public int CalculateOverlap() {\n",
    "        int overlap = 0;\n",
    "        for (int x=0;x<max_x;x++){\n",
    "            for (int y=0;y<max_y;y++){\n",
    "                if (graph[x,y] >=2) {\n",
    "                    overlap++;\n",
    "                }\n",
    "            }\n",
    "        }\n",
    "\n",
    "        return overlap;\n",
    "    }\n",
    "}\n"
   ]
  },
  {
   "cell_type": "code",
   "execution_count": null,
   "metadata": {
    "dotnet_interactive": {
     "language": "csharp"
    }
   },
   "outputs": [],
   "source": [
    "List<Line> lines = new();\n",
    "foreach (var text in fileLines) {\n",
    "    string[] points = text.Split(\" -> \");\n",
    "    string[] start_str = points[0].Split(\",\");\n",
    "    string[] end_str = points[1].Split(\",\");\n",
    "    \n",
    "    int[] start = {int.Parse(start_str[0]), int.Parse(start_str[1])};\n",
    "    int[] end = {int.Parse(end_str[0]), int.Parse(end_str[1])};\n",
    "    \n",
    "    Line line = new(start, end);\n",
    "    lines.Add(line);\n",
    "    }\n",
    "\n",
    "// foreach (var line in lines) {\n",
    "//     Console.WriteLine(line.ToString());\n",
    "// }\n"
   ]
  },
  {
   "cell_type": "code",
   "execution_count": null,
   "metadata": {
    "dotnet_interactive": {
     "language": "csharp"
    }
   },
   "outputs": [
    {
     "data": {
      "text/html": [
       "<div class=\"dni-plaintext\">19172</div>"
      ]
     },
     "metadata": {},
     "output_type": "display_data"
    }
   ],
   "source": [
    "int x = 0;\n",
    "int y = 0;\n",
    "foreach(var line in lines){\n",
    "    x = Math.Max(x, line.start[0]);\n",
    "    x = Math.Max(x, line.end[0]);\n",
    "    \n",
    "    y = Math.Max(y, line.start[1]);\n",
    "    y = Math.Max(y, line.end[1]);\n",
    "}\n",
    "\n",
    "Board board = new(x+1, y+1);\n",
    "board.Populate(lines);\n",
    "// board.Print();\n",
    "\n",
    "int o = board.CalculateOverlap();\n",
    "o"
   ]
  }
 ],
 "metadata": {
  "kernelspec": {
   "display_name": ".NET (C#)",
   "language": "C#",
   "name": ".net-csharp"
  },
  "language_info": {
   "name": "C#"
  }
 },
 "nbformat": 4,
 "nbformat_minor": 2
}
