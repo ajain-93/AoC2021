{
 "cells": [
  {
   "cell_type": "code",
   "execution_count": null,
   "metadata": {
    "dotnet_interactive": {
     "language": "csharp"
    }
   },
   "outputs": [],
   "source": [
    "string filename = @\"C:\\Temp\\Jupyter\\Day7.txt\";\n",
    "\n",
    "string[] raw_lines = System.IO.File.ReadAllLines(filename);"
   ]
  },
  {
   "cell_type": "code",
   "execution_count": null,
   "metadata": {
    "dotnet_interactive": {
     "language": "csharp"
    }
   },
   "outputs": [],
   "source": [
    "string[] first_line = raw_lines[0].Split(\",\");\n",
    "int[] loc = Array.ConvertAll(first_line, int.Parse);"
   ]
  },
  {
   "cell_type": "code",
   "execution_count": null,
   "metadata": {
    "dotnet_interactive": {
     "language": "csharp"
    }
   },
   "outputs": [
    {
     "name": "stdout",
     "output_type": "stream",
     "text": [
      "376: 352707\r\n"
     ]
    }
   ],
   "source": [
    "//7A\n",
    "\n",
    "int fuelUsed(int[] locations, int position) {\n",
    "    int fuel = 0;\n",
    "    foreach (var loc in locations) {\n",
    "        fuel += Math.Abs(loc - position);\n",
    "    }\n",
    "    return fuel;\n",
    "}\n",
    "\n",
    "int min = loc.Min();\n",
    "int max = loc.Max();\n",
    "int start =  (int) Queryable.Average(loc.AsQueryable());\n",
    "int minimum = start;\n",
    "int fuel = fuelUsed(loc, start);\n",
    "\n",
    "for (int i=min;i<max;i++){\n",
    "    int loc_fuel = fuelUsed(loc, i);\n",
    "    if (loc_fuel < fuel) {\n",
    "        fuel = loc_fuel;\n",
    "        minimum = i;\n",
    "    }\n",
    "}\n",
    "\n",
    "Console.WriteLine($\"{minimum}: {fuel}\");"
   ]
  },
  {
   "cell_type": "code",
   "execution_count": null,
   "metadata": {
    "dotnet_interactive": {
     "language": "csharp"
    }
   },
   "outputs": [
    {
     "name": "stdout",
     "output_type": "stream",
     "text": [
      "490: 95519693\r\n"
     ]
    }
   ],
   "source": [
    "//7B\n",
    "int min = loc.Min();\n",
    "int max = loc.Max();\n",
    "\n",
    "int[] cost = new int[max+1];\n",
    "for (int i=0; i<cost.Count();i++){\n",
    "    int c = 0;\n",
    "    for (int j=0; j<=i;j++){\n",
    "        c += j;\n",
    "    }\n",
    "    cost[i] = c;\n",
    "}\n",
    "\n",
    "\n",
    "int fuelUsed(int[] locations, int position) {\n",
    "    int fuel = 0;\n",
    "    foreach (var loc in locations) {\n",
    "        fuel += cost[Math.Abs(loc - position)];\n",
    "    }\n",
    "    return fuel;\n",
    "}\n",
    "\n",
    "int start =  (int) Queryable.Average(loc.AsQueryable());\n",
    "int minimum = start;\n",
    "int fuel = fuelUsed(loc, start);\n",
    "\n",
    "for (int i=min;i<max;i++){\n",
    "    int loc_fuel = fuelUsed(loc, i);\n",
    "    if (loc_fuel < fuel) {\n",
    "        fuel = loc_fuel;\n",
    "        minimum = i;\n",
    "    }\n",
    "}\n",
    "\n",
    "Console.WriteLine($\"{minimum}: {fuel}\");"
   ]
  }
 ],
 "metadata": {
  "kernelspec": {
   "display_name": ".NET (C#)",
   "language": "C#",
   "name": ".net-csharp"
  },
  "language_info": {
   "name": "C#"
  }
 },
 "nbformat": 4,
 "nbformat_minor": 2
}
