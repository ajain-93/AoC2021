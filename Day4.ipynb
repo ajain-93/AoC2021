{
 "cells": [
  {
   "cell_type": "code",
   "execution_count": null,
   "metadata": {
    "dotnet_interactive": {
     "language": "csharp"
    }
   },
   "outputs": [],
   "source": [
    "string filename = @\"C:\\Temp\\Jupyter\\Day4.txt\";\n",
    "\n",
    "string[] lines = System.IO.File.ReadAllLines(filename);"
   ]
  },
  {
   "cell_type": "code",
   "execution_count": null,
   "metadata": {
    "dotnet_interactive": {
     "language": "csharp"
    }
   },
   "outputs": [],
   "source": [
    "string[] draw_str = lines[0].Split(\",\");\n",
    "int[] draw = Array.ConvertAll(draw_str, int.Parse);"
   ]
  },
  {
   "cell_type": "code",
   "execution_count": null,
   "metadata": {
    "dotnet_interactive": {
     "language": "csharp"
    }
   },
   "outputs": [],
   "source": [
    "class Board {\n",
    "    public int[,] cell = new int[5, 5];\n",
    "    public bool won = false;\n",
    "\n",
    "    public static void PrintAll(List<Board> boards) {\n",
    "        foreach (var board in boards){\n",
    "            board.Print();\n",
    "            Console.WriteLine();\n",
    "        }\n",
    "    }\n",
    "\n",
    "    public int CountScore() {\n",
    "        int score = 0;\n",
    "        for (int i = 0; i<5; i++) {\n",
    "            for (int j = 0; j<5; j++) {\n",
    "                if (this.cell[i,j] == -1) { continue; }\n",
    "                else {\n",
    "                    score += this.cell[i,j];\n",
    "                    // Console.WriteLine($\"{i}, {j}, {this.cell[i,j]}: {score}\");\n",
    "                }\n",
    "            }\n",
    "        }\n",
    "        return score;\n",
    "    }\n",
    "\n",
    "    public void Print(){\n",
    "        for (int i = 0; i<5; i++) {\n",
    "            for (int j = 0; j<5; j++) {\n",
    "                Console.Write(this.cell[i, j]);\n",
    "                Console.Write(\" \");\n",
    "            }\n",
    "            Console.WriteLine();\n",
    "        }\n",
    "    }\n",
    "\n",
    "    public bool Mark(int value) {\n",
    "        for (int i = 0; i<5; i++) {\n",
    "            for (int j = 0; j<5; j++) {\n",
    "                if (this.cell[i,j] == value){\n",
    "                    this.cell[i,j] = -1;\n",
    "                }\n",
    "            }\n",
    "        }\n",
    "        return this.CheckBoard();\n",
    "    }\n",
    "\n",
    "    public bool CheckBoard() {\n",
    "        if (this.won == true) \n",
    "            return true;\n",
    "\n",
    "        for (int i = 0; i<5; i++) {\n",
    "            int match_row = 0;\n",
    "            int match_col = 0;\n",
    "\n",
    "            for (int j = 0; j<5; j++) {\n",
    "                if (this.cell[i,j] == -1) {\n",
    "                    match_row++;\n",
    "                }\n",
    "                if (this.cell[j,i] == -1) {\n",
    "                    match_col++;\n",
    "                }\n",
    "            if (match_row == 5 || match_col == 5) {\n",
    "                this.won = true;\n",
    "                return true;\n",
    "            }\n",
    "            }\n",
    "        }\n",
    "        return false;\n",
    "    }\n",
    "}"
   ]
  },
  {
   "cell_type": "code",
   "execution_count": null,
   "metadata": {
    "dotnet_interactive": {
     "language": "csharp"
    }
   },
   "outputs": [],
   "source": [
    "List<Board> boards = new();\n",
    "Board board = new();\n",
    "\n",
    "int j = 0;\n",
    "\n",
    "for (int i = 2; i < lines.Count(); i++){\n",
    "    if (lines[i] == \"\") {\n",
    "        continue;\n",
    "    }\n",
    "\n",
    "    string[] row_str = lines[i].Split(new char[0], StringSplitOptions.RemoveEmptyEntries);\n",
    "    int[] row = Array.ConvertAll(row_str, int.Parse);\n",
    "    for (int k = 0; k<5; k++) {\n",
    "        board.cell[j,k] = row[k];\n",
    "        // Console.WriteLine (row[k]);\n",
    "    }\n",
    "    j++;\n",
    "    if (j == 5) {\n",
    "        j = 0;\n",
    "        boards.Add(board);\n",
    "        //board.Print();\n",
    "        board = new();\n",
    "    }\n",
    "}"
   ]
  },
  {
   "cell_type": "code",
   "execution_count": null,
   "metadata": {
    "dotnet_interactive": {
     "language": "csharp"
    }
   },
   "outputs": [
    {
     "name": "stdout",
     "output_type": "stream",
     "text": [
      "Board 3 finished with score 188 and final score 4512\r\n",
      "-1 -1 -1 -1 -1 \r\n",
      "10 16 15 -1 19 \r\n",
      "18 8 -1 26 20 \r\n",
      "22 -1 13 6 -1 \r\n",
      "-1 -1 12 3 -1 \r\n",
      "\r\n"
     ]
    }
   ],
   "source": [
    "// 4A\n",
    "\n",
    "int value = -1;\n",
    "for (int i=0; i<draw.Count(); i++) {\n",
    "    value = draw[i];\n",
    "    for (int j=0; j<boards.Count(); j++) {\n",
    "        if (boards[j].Mark(value)) {\n",
    "            Console.WriteLine($\"Board {j+1} finished with score {boards[j].CountScore()} and final score {value * boards[j].CountScore()}\");\n",
    "            boards[j].Print();\n",
    "            Console.WriteLine();\n",
    "            i = draw.Count();\n",
    "        }\n",
    "    }\n",
    "}\n"
   ]
  },
  {
   "cell_type": "code",
   "execution_count": null,
   "metadata": {
    "dotnet_interactive": {
     "language": "csharp"
    }
   },
   "outputs": [
    {
     "data": {
      "text/html": [
       "<div class=\"dni-plaintext\">188</div>"
      ]
     },
     "metadata": {},
     "output_type": "display_data"
    }
   ],
   "source": [
    "boards[2].CountScore()"
   ]
  },
  {
   "cell_type": "code",
   "execution_count": null,
   "metadata": {
    "dotnet_interactive": {
     "language": "csharp"
    }
   },
   "outputs": [],
   "source": []
  }
 ],
 "metadata": {
  "kernelspec": {
   "display_name": ".NET (C#)",
   "language": "C#",
   "name": ".net-csharp"
  },
  "language_info": {
   "file_extension": ".cs",
   "mimetype": "text/x-csharp",
   "name": "C#",
   "pygments_lexer": "csharp",
   "version": "9.0"
  },
  "orig_nbformat": 2
 },
 "nbformat": 4,
 "nbformat_minor": 2
}
