{
 "cells": [
  {
   "cell_type": "code",
   "execution_count": null,
   "metadata": {
    "dotnet_interactive": {
     "language": "csharp"
    }
   },
   "outputs": [],
   "source": [
    "string filename = @\"C:\\Temp\\Advent of Code 2021\\Day11.txt\";\n",
    "string[] raw_lines = System.IO.File.ReadAllLines(filename);"
   ]
  },
  {
   "cell_type": "code",
   "execution_count": null,
   "metadata": {
    "dotnet_interactive": {
     "language": "csharp"
    }
   },
   "outputs": [],
   "source": [
    "int max_x = raw_lines[0].Count();\n",
    "int max_y = raw_lines.Count();\n",
    "\n",
    "int[,] board = new int[max_x, max_y];\n",
    "\n",
    "void PrintBoard(int[,] board){\n",
    "    for (int y = 0; y<max_y; y++) {\n",
    "        for (int x = 0; x<max_x; x++){\n",
    "            Console.Write($\"{board[x,y]} \");\n",
    "        }\n",
    "        Console.WriteLine();\n",
    "    }\n",
    "    Console.WriteLine();\n",
    "}"
   ]
  },
  {
   "cell_type": "code",
   "execution_count": null,
   "metadata": {
    "dotnet_interactive": {
     "language": "csharp"
    }
   },
   "outputs": [],
   "source": [
    "// Fill Array\n",
    "for (int y = 0; y<max_y; y++) {\n",
    "    for (int x = 0; x<max_x; x++){\n",
    "        int a = (int)Char.GetNumericValue(raw_lines[y][x]);\n",
    "        board[x,y] = a;\n",
    "        // Console.WriteLine($\"{x},{y} : {raw_lines[y][x]} > {a} > {board[x,y]}\");\n",
    "    }\n",
    "}\n",
    "// PrintBoard(board);"
   ]
  },
  {
   "cell_type": "code",
   "execution_count": null,
   "metadata": {
    "dotnet_interactive": {
     "language": "csharp"
    }
   },
   "outputs": [],
   "source": [
    "List<String> pulsemap;\n",
    "int pulseCountTotal = 0;\n",
    "int pulseCountStep = 0;\n",
    "bool allFlashed = false;\n",
    "\n",
    "void Step(){\n",
    "\n",
    "    pulseCountStep = 0;\n",
    "    pulsemap = new();\n",
    "\n",
    "    //Increase 1 step\n",
    "    for (int y = 0; y<max_y; y++) {\n",
    "        for (int x = 0; x<max_x; x++){\n",
    "            board[x,y]++;\n",
    "        }\n",
    "    }\n",
    "\n",
    "    //Check if pulsed, recursivly\n",
    "    for (int y = 0; y<max_y; y++) {\n",
    "        for (int x = 0; x<max_x; x++){\n",
    "            if(board[x,y] > 9) {\n",
    "                Pulse(x,y);\n",
    "            }\n",
    "        }\n",
    "    }\n",
    "    \n",
    "    //Reset pulsed\n",
    "    for (int y = 0; y<max_y; y++) {\n",
    "        for (int x = 0; x<max_x; x++){\n",
    "            if(board[x,y] > 9) {\n",
    "                board[x,y] = 0;\n",
    "                pulseCountTotal++;\n",
    "                pulseCountStep++;\n",
    "            }\n",
    "        }\n",
    "    }\n",
    "    allFlashed = (pulseCountStep == max_x * max_y);\n",
    "}\n",
    "void Pulse(int x, int y){\n",
    "    string coord = $\"{x},{y}\";\n",
    "    // Console.WriteLine(coord);\n",
    "    if (!pulsemap.Contains(coord)){\n",
    "        pulsemap.Add(coord);\n",
    "        if (board[x,y] > 9){\n",
    "            bool isNotLeftBorder = x > 0;\n",
    "            bool isNotRightBorder = x < max_x-1;\n",
    "            bool isNotTopBorder = y > 0;\n",
    "            bool isNotBottomBorder = y < max_y-1;\n",
    "\n",
    "            if (isNotLeftBorder) {\n",
    "                if (++board[x-1,y] > 9 )\n",
    "                    Pulse(x-1,y);\n",
    "            }\n",
    "            if (isNotTopBorder) {\n",
    "                if (++board[x,y-1] > 9 )\n",
    "                    Pulse(x,y-1);\n",
    "            }\n",
    "            if (isNotRightBorder) {\n",
    "                if (++board[x+1,y] > 9 )\n",
    "                    Pulse(x+1,y);\n",
    "            }\n",
    "            if (isNotBottomBorder) {\n",
    "                if (++board[x,y+1] > 9 )\n",
    "                    Pulse(x,y+1);\n",
    "            }\n",
    "            if (isNotLeftBorder && isNotTopBorder) {\n",
    "                if (++board[x-1,y-1] > 9 )\n",
    "                    Pulse(x-1,y-1);\n",
    "            }\n",
    "            if (isNotTopBorder && isNotRightBorder) {\n",
    "                if (++board[x+1,y-1] > 9 )\n",
    "                    Pulse(x+1,y-1);\n",
    "            }\n",
    "            if (isNotRightBorder && isNotBottomBorder) {\n",
    "                if (++board[x+1,y+1] > 9 )\n",
    "                    Pulse(x+1,y+1);\n",
    "            }\n",
    "            if (isNotBottomBorder && isNotLeftBorder) {\n",
    "                if (++board[x-1,y+1] > 9 )\n",
    "                    Pulse(x-1,y+1);\n",
    "            }\n",
    "        }\n",
    "    }\n",
    "}\n",
    "// PrintBoard(board);"
   ]
  },
  {
   "cell_type": "code",
   "execution_count": null,
   "metadata": {
    "dotnet_interactive": {
     "language": "csharp"
    }
   },
   "outputs": [
    {
     "name": "stdout",
     "output_type": "stream",
     "text": [
      "All flashed at: 422\r\n",
      "0 0 0 0 0 0 0 0 0 0 \r\n",
      "0 0 0 0 0 0 0 0 0 0 \r\n",
      "0 0 0 0 0 0 0 0 0 0 \r\n",
      "0 0 0 0 0 0 0 0 0 0 \r\n",
      "0 0 0 0 0 0 0 0 0 0 \r\n",
      "0 0 0 0 0 0 0 0 0 0 \r\n",
      "0 0 0 0 0 0 0 0 0 0 \r\n",
      "0 0 0 0 0 0 0 0 0 0 \r\n",
      "0 0 0 0 0 0 0 0 0 0 \r\n",
      "0 0 0 0 0 0 0 0 0 0 \r\n",
      "\r\n",
      "Total Flashes: 6851\r\n"
     ]
    }
   ],
   "source": [
    "int steps = 500;\n",
    "for(int i=1;i<=steps;i++){\n",
    "    Step();\n",
    "    // Console.WriteLine($\"[{i}] {pulseCountStep} / {pulseCountTotal}\");\n",
    "    if (allFlashed) {\n",
    "        Console.WriteLine($\"All flashed at: {i}\");\n",
    "        break;\n",
    "    }\n",
    "}\n",
    "\n",
    "\n",
    "PrintBoard(board);\n",
    "Console.WriteLine($\"Total Flashes: {pulseCountTotal}\");\n"
   ]
  }
 ],
 "metadata": {
  "kernelspec": {
   "display_name": ".NET (C#)",
   "language": "C#",
   "name": ".net-csharp"
  },
  "language_info": {
   "name": "C#"
  }
 },
 "nbformat": 4,
 "nbformat_minor": 2
}
