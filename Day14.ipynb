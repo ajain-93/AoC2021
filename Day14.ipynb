{
 "cells": [
  {
   "cell_type": "code",
   "execution_count": null,
   "metadata": {
    "dotnet_interactive": {
     "language": "csharp"
    }
   },
   "outputs": [],
   "source": [
    "string filename = @\"C:\\Temp\\Advent of Code 2021\\Day14.txt\";\n",
    "string[] raw_lines = System.IO.File.ReadAllLines(filename);"
   ]
  },
  {
   "cell_type": "code",
   "execution_count": null,
   "metadata": {
    "dotnet_interactive": {
     "language": "csharp"
    }
   },
   "outputs": [
    {
     "name": "stdout",
     "output_type": "stream",
     "text": [
      "1: 39\r\n",
      "2: 77\r\n",
      "3: 153\r\n",
      "4: 305\r\n",
      "5: 609\r\n",
      "6: 1217\r\n",
      "7: 2433\r\n",
      "8: 4865\r\n",
      "9: 9729\r\n",
      "10: 19457\r\n",
      "3697\r\n"
     ]
    }
   ],
   "source": [
    "string polymerTemplate = raw_lines[0];\n",
    "\n",
    "string[] rules = raw_lines.Where(x => x.Contains(\"->\")).ToArray();\n",
    "\n",
    "int limit = 10;\n",
    "\n",
    "int len, B,C,H,N, mostCommon, leastCommon;\n",
    "\n",
    "for (int i=0; i<limit; i++) {\n",
    "    string initial = polymerTemplate;\n",
    "    for (int j = initial.Length-1; j>0; j--) {\n",
    "        string r = rules.Where( s => s.Contains(initial.Substring(j-1,2))).ToArray()[0];\n",
    "        // Console.WriteLine(r);\n",
    "        // Console.WriteLine(r.Substring(6,1));\n",
    "        polymerTemplate = polymerTemplate.Substring(0,j) + r.Substring(6,1) + polymerTemplate.Substring(j);\n",
    "    }\n",
    "    // Console.WriteLine($\"{i+1}: {polymerTemplate}\");\n",
    "    Console.WriteLine($\"{i+1}: {polymerTemplate.Length}\");\n",
    "}\n",
    "\n",
    "len = polymerTemplate.Length;\n",
    "\n",
    "char[] elements = polymerTemplate.ToCharArray().Distinct().ToArray();\n",
    "List<int> count = new();\n",
    "foreach (var e in elements){\n",
    "    count.Add(polymerTemplate.Count(c=>(c==e)));\n",
    "}\n",
    "\n",
    "Console.WriteLine(count.Max() - count.Min());\n"
   ]
  }
 ],
 "metadata": {
  "kernelspec": {
   "display_name": ".NET (C#)",
   "language": "C#",
   "name": ".net-csharp"
  },
  "language_info": {
   "name": "C#"
  }
 },
 "nbformat": 4,
 "nbformat_minor": 2
}
