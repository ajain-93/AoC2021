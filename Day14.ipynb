{
 "cells": [
  {
   "cell_type": "code",
   "execution_count": null,
   "metadata": {
    "dotnet_interactive": {
     "language": "csharp"
    }
   },
   "outputs": [],
   "source": [
    "string filename = @\"C:\\Temp\\Advent of Code 2021\\Day14.txt\";\n",
    "string[] raw_lines = System.IO.File.ReadAllLines(filename);"
   ]
  },
  {
   "cell_type": "code",
   "execution_count": null,
   "metadata": {
    "dotnet_interactive": {
     "language": "csharp"
    }
   },
   "outputs": [
    {
     "name": "stdout",
     "output_type": "stream",
     "text": [
      "4371307836157\r\n"
     ]
    }
   ],
   "source": [
    "string polymerTemplate = raw_lines[0];\n",
    "string[] rules = raw_lines.Where(x => x.Contains(\"->\")).ToArray();\n",
    "List<int> len = new();;\n",
    "\n",
    "List<string> pairs = new();\n",
    "List<long> pcount = new();\n",
    "foreach (var r in rules){\n",
    "    pairs.Add(r.Substring(0,2));\n",
    "    pcount.Add(0);\n",
    "}\n",
    "\n",
    "void Print(){\n",
    "    // Console.WriteLine($\"\\n//\");\n",
    "    for (int i=0;i<pairs.Count;i++) {\n",
    "        if (pcount[i]>0)\n",
    "            Console.WriteLine($\"{pairs[i]}: {pcount[i]}\");\n",
    "    }\n",
    "    Console.WriteLine($\"//\\n\");\n",
    "}\n",
    "\n",
    "//Fill\n",
    "for (int i=0; i<polymerTemplate.Length-1; i++){\n",
    "    string pair = polymerTemplate.Substring(i,2);\n",
    "    int index = pairs.IndexOf(pair);\n",
    "    // Console.WriteLine(pair);\n",
    "    pcount[index]++;\n",
    "    // Console.WriteLine($\"{tuple.Item1} {tuple.Item2}\");\n",
    "}\n",
    "len.Add(polymerTemplate.Length);\n",
    "\n",
    "// Print();\n",
    "\n",
    "int limit = 40;\n",
    "\n",
    "for (int i=0; i<limit; i++) {\n",
    "    // Console.WriteLine(i+1);\n",
    "    var pcountOld = pcount.ToList();\n",
    "\n",
    "    for (int j=0;j<pairs.Count;j++){\n",
    "        if (pcount[j] == 0) {\n",
    "            continue;\n",
    "        }\n",
    "        string r = rules.Where( s => s.Contains(pairs[j])).ToArray()[0];\n",
    "\n",
    "        pcount[j] -= pcountOld[j];\n",
    "\n",
    "        string pairNew1 = pairs[j][0]+r.Substring(6,1);\n",
    "        int index1 = pairs.IndexOf(pairNew1);\n",
    "        pcount[index1] += pcountOld[j];\n",
    "\n",
    "        string pairNew2 = r.Substring(6,1)+pairs[j][1];\n",
    "        int index2 = pairs.IndexOf(pairNew2);\n",
    "        pcount[index2] += pcountOld[j];\n",
    "\n",
    "        // Console.WriteLine($\"[{j}] {pairs[j]} {pcountOld[j]} {r} | [{index1}] {pairNew1} {pcount[index1]} | [{index2}] {pairNew2} {pcount[index2]}\");\n",
    "    }\n",
    "    len.Add(2 * len[len.Count - 1] - 1);\n",
    "\n",
    "    // Print();\n",
    "}\n",
    "\n",
    "\n",
    "List<char> elements = new();\n",
    "for (int j=0;j<pairs.Count;j++){\n",
    "    elements.Add(pairs[j][0]);\n",
    "}\n",
    "elements = elements.Distinct().ToList();\n",
    "\n",
    "\n",
    "// Console.WriteLine(\"\\n\");\n",
    "\n",
    "List<long> count = new();\n",
    "foreach (var e in elements){\n",
    "    long i = 0;\n",
    "    if (e == polymerTemplate[polymerTemplate.Count()-1]) {\n",
    "        i++;\n",
    "    }\n",
    "\n",
    "    for (int j=0;j<pairs.Count;j++) {\n",
    "        if (pcount[j]==0){\n",
    "            continue;\n",
    "        }\n",
    "        if (pairs[j][0] == e){\n",
    "            i += pcount[j];\n",
    "        }\n",
    "    }\n",
    "\n",
    "    count.Add(i);\n",
    "    // Console.WriteLine($\"{e}:{i}\");\n",
    "}\n",
    "\n",
    "// Print();\n",
    "\n",
    "Console.WriteLine(count.Max() - count.Min());\n"
   ]
  }
 ],
 "metadata": {
  "kernelspec": {
   "display_name": ".NET (C#)",
   "language": "C#",
   "name": ".net-csharp"
  },
  "language_info": {
   "name": "C#"
  }
 },
 "nbformat": 4,
 "nbformat_minor": 2
}
