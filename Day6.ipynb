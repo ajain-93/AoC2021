{
 "cells": [
  {
   "cell_type": "code",
   "execution_count": null,
   "metadata": {
    "dotnet_interactive": {
     "language": "csharp"
    }
   },
   "outputs": [],
   "source": [
    "string filename = @\"C:\\Temp\\Jupyter\\Day6.txt\";\n",
    "\n",
    "string[] raw_lines = System.IO.File.ReadAllLines(filename);"
   ]
  },
  {
   "cell_type": "code",
   "execution_count": null,
   "metadata": {
    "dotnet_interactive": {
     "language": "csharp"
    }
   },
   "outputs": [],
   "source": [
    "string[] age_str = raw_lines[0].Split(\",\");\n",
    "List<int> age = Array.ConvertAll(age_str, int.Parse).ToList();\n",
    "\n",
    "// age"
   ]
  },
  {
   "cell_type": "code",
   "execution_count": null,
   "metadata": {
    "dotnet_interactive": {
     "language": "csharp"
    }
   },
   "outputs": [
    {
     "name": "stdout",
     "output_type": "stream",
     "text": [
      "18: 1823\r\n"
     ]
    }
   ],
   "source": [
    "//6A\n",
    "int limit = 18;\n",
    "int count = age.Count();\n",
    "\n",
    "for (int days=0;days<limit;days++){\n",
    "    for (int i=0;i<count;i++){\n",
    "        if (age[i] == 0) {\n",
    "            age[i] = 7;\n",
    "            age.Add(8);\n",
    "        }\n",
    "        age[i]--;\n",
    "    }\n",
    "    count = age.Count();\n",
    "    // Console.WriteLine($\"{days+1}: {count}\");\n",
    "}\n",
    "\n",
    "Console.WriteLine($\"{limit}: {count}\");\n",
    "\n",
    "// age"
   ]
  },
  {
   "cell_type": "code",
   "execution_count": null,
   "metadata": {
    "dotnet_interactive": {
     "language": "csharp"
    }
   },
   "outputs": [
    {
     "name": "stdout",
     "output_type": "stream",
     "text": [
      "256: 1728611055389\r\n"
     ]
    }
   ],
   "source": [
    "//6B\n",
    "List<long> age = Array.ConvertAll(age_str, long.Parse).ToList();\n",
    "\n",
    "limit = 256;\n",
    "long[] age_count = new long[9];\n",
    "foreach (var fish in age){\n",
    "    age_count[fish]++;\n",
    "}\n",
    "long count = 0;\n",
    "\n",
    "for (int days=0; days<limit; days++) {\n",
    "    long new_fish = age_count[0];\n",
    "    age_count[0] = age_count[1];\n",
    "    age_count[1] = age_count[2];\n",
    "    age_count[2] = age_count[3];\n",
    "    age_count[3] = age_count[4];\n",
    "    age_count[4] = age_count[5];\n",
    "    age_count[5] = age_count[6];\n",
    "    age_count[6] = age_count[7] + new_fish;\n",
    "    age_count[7] = age_count[8];\n",
    "    age_count[8] = new_fish;\n",
    "\n",
    "    count = 0;\n",
    "    // Console.Write($\"{days+1}: \");\n",
    "    foreach (var fish_age in age_count){\n",
    "        count += fish_age;\n",
    "        // Console.Write($\"{fish_age} \");\n",
    "    }\n",
    "    // Console.WriteLine();\n",
    "    // Console.WriteLine($\"{days+1}: {count}\");\n",
    "\n",
    "}\n",
    "\n",
    "Console.WriteLine($\"{limit}: {count}\");\n",
    "\n",
    "// age_count"
   ]
  }
 ],
 "metadata": {
  "kernelspec": {
   "display_name": ".NET (C#)",
   "language": "C#",
   "name": ".net-csharp"
  },
  "language_info": {
   "name": "C#"
  }
 },
 "nbformat": 4,
 "nbformat_minor": 2
}
