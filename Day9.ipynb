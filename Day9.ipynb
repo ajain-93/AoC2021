{
 "cells": [
  {
   "cell_type": "code",
   "execution_count": null,
   "metadata": {
    "dotnet_interactive": {
     "language": "csharp"
    }
   },
   "outputs": [],
   "source": [
    "string filename = @\"C:\\Temp\\Advent of Code 2021\\Day9.txt\";\n",
    "string[] raw_lines = System.IO.File.ReadAllLines(filename);"
   ]
  },
  {
   "cell_type": "code",
   "execution_count": null,
   "metadata": {
    "dotnet_interactive": {
     "language": "csharp"
    }
   },
   "outputs": [],
   "source": [
    "int checkLeft(int x, int y){\n",
    "    if (x == 0) {\n",
    "        return 9;\n",
    "    }\n",
    "    return (int)Char.GetNumericValue(raw_lines[y][x-1]);\n",
    "}\n",
    "\n",
    "int checkRight(int x, int y){\n",
    "    if (x+1 >= raw_lines[y].Count()) {\n",
    "        return 9;\n",
    "    }\n",
    "    return (int)Char.GetNumericValue(raw_lines[y][x+1]);\n",
    "}\n",
    "\n",
    "int checkAbove(int x, int y){\n",
    "    if (y == 0) {\n",
    "        return 9;\n",
    "    }\n",
    "    return (int)Char.GetNumericValue(raw_lines[y-1][x]);\n",
    "}\n",
    "\n",
    "int checkBelow(int x, int y){\n",
    "    if (y+1 >= raw_lines.Count()) {\n",
    "        return 9;\n",
    "    }\n",
    "    return (int)Char.GetNumericValue(raw_lines[y+1][x]);\n",
    "}\n",
    "\n",
    "\n",
    "void checkCoordinate (int x,int y, List<string> basin){\n",
    "    int current = (int)Char.GetNumericValue(raw_lines[y][x]);\n",
    "    string current_str = $\"{x},{y} | {current}\";\n",
    "\n",
    "    foreach (var loc in basin){\n",
    "        if (loc == current_str){\n",
    "            return;\n",
    "        }\n",
    "    }\n",
    "\n",
    "    if (current == 9) {\n",
    "        return;\n",
    "    } else {\n",
    "        basin.Add($\"{x},{y} | {current}\");\n",
    "    }\n",
    "    if (x != 0) {\n",
    "        checkCoordinate(x-1,y, basin);\n",
    "    }\n",
    "    if (x+1 < raw_lines[0].Count()) {\n",
    "        checkCoordinate(x+1,y, basin);\n",
    "    }\n",
    "    if (y !=0) {\n",
    "        checkCoordinate(x,y-1, basin);\n",
    "    }\n",
    "    if (y+1 < raw_lines.Count()) {\n",
    "        checkCoordinate(x,y+1, basin);\n",
    "    }\n",
    "}"
   ]
  },
  {
   "cell_type": "code",
   "execution_count": null,
   "metadata": {
    "dotnet_interactive": {
     "language": "csharp"
    }
   },
   "outputs": [
    {
     "data": {
      "text/html": [
       "<div class=\"dni-plaintext\">1168440</div>"
      ]
     },
     "metadata": {},
     "output_type": "display_data"
    }
   ],
   "source": [
    "List<string> lows = new();\n",
    "List<string> basin = new();\n",
    "List<int> basin_size = new();\n",
    "\n",
    "for (int j=0;j<raw_lines.Count();j++){\n",
    "\n",
    "    for (int i=0;i<raw_lines[j].Count();i++){\n",
    "        // Console.WriteLine($\"{raw_lines[j]} ({raw_lines[j].Count()}) [{i}]\");\n",
    "\n",
    "        int current = (int)Char.GetNumericValue(raw_lines[j][i]);\n",
    "        int left = checkLeft(i,j);\n",
    "        int right = checkRight(i,j);\n",
    "        int above = checkAbove(i,j);\n",
    "        int below = checkBelow(i,j);\n",
    "\n",
    "        if (left <= current){\n",
    "            continue;\n",
    "        }\n",
    "        if (right <= current){\n",
    "            continue;\n",
    "        }\n",
    "        if (above <= current){\n",
    "            continue;\n",
    "        }\n",
    "        if (below <= current){\n",
    "            continue;\n",
    "        }\n",
    "        lows.Add($\"{i},{j} | {current}\");\n",
    "        basin = new();\n",
    "        checkCoordinate(i,j,basin);\n",
    "        basin_size.Add(basin.Count());\n",
    "\n",
    "\n",
    "        int x=i;\n",
    "        int y=j;\n",
    "    }\n",
    "}\n",
    "\n",
    "int risk = 0;\n",
    "foreach(var line in lows){\n",
    "    var val = line.Split(\"|\");\n",
    "    risk += int.Parse(val[1]) +1;\n",
    "}\n",
    "// Console.WriteLine(risk);\n",
    "\n",
    "basin_size.Sort();\n",
    "// basin_size\n",
    "int sizes = basin_size[basin_size.Count()-1] * basin_size[basin_size.Count()-2] * basin_size[basin_size.Count()-3];\n",
    "sizes\n"
   ]
  },
  {
   "cell_type": "code",
   "execution_count": null,
   "metadata": {
    "dotnet_interactive": {
     "language": "csharp"
    }
   },
   "outputs": [
    {
     "ename": "Error",
     "evalue": "System.NullReferenceException: Object reference not set to an instance of an object.\r\n   at Submission#9.checkCoordinate(Int32 x, Int32 y)\r\n   at Submission#33.<<Initialize>>d__0.MoveNext()\r\n--- End of stack trace from previous location ---\r\n   at Microsoft.CodeAnalysis.Scripting.ScriptExecutionState.RunSubmissionsAsync[TResult](ImmutableArray`1 precedingExecutors, Func`2 currentExecutor, StrongBox`1 exceptionHolderOpt, Func`2 catchExceptionOpt, CancellationToken cancellationToken)",
     "output_type": "error",
     "traceback": [
      "System.NullReferenceException: Object reference not set to an instance of an object.\r\n",
      "   at Submission#9.checkCoordinate(Int32 x, Int32 y)\r\n",
      "   at Submission#33.<<Initialize>>d__0.MoveNext()\r\n",
      "--- End of stack trace from previous location ---\r\n",
      "   at Microsoft.CodeAnalysis.Scripting.ScriptExecutionState.RunSubmissionsAsync[TResult](ImmutableArray`1 precedingExecutors, Func`2 currentExecutor, StrongBox`1 exceptionHolderOpt, Func`2 catchExceptionOpt, CancellationToken cancellationToken)"
     ]
    }
   ],
   "source": [
    "\n",
    "\n",
    "checkCoordinate (6,0);\n",
    "\n",
    "basin"
   ]
  }
 ],
 "metadata": {
  "kernelspec": {
   "display_name": ".NET (C#)",
   "language": "C#",
   "name": ".net-csharp"
  },
  "language_info": {
   "name": "C#"
  }
 },
 "nbformat": 4,
 "nbformat_minor": 2
}
