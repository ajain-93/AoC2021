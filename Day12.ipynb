{
 "cells": [
  {
   "cell_type": "code",
   "execution_count": null,
   "metadata": {
    "dotnet_interactive": {
     "language": "csharp"
    }
   },
   "outputs": [],
   "source": [
    "string filename = @\"C:\\Temp\\Advent of Code 2021\\Day12.txt\";\n",
    "string[] raw_lines = System.IO.File.ReadAllLines(filename);"
   ]
  },
  {
   "cell_type": "code",
   "execution_count": null,
   "metadata": {
    "dotnet_interactive": {
     "language": "csharp"
    }
   },
   "outputs": [],
   "source": [
    "[Serializable]\n",
    "class Cave\n",
    "{\n",
    "    public string name;\n",
    "    public string originalName = null;\n",
    "    public bool isBig;\n",
    "    public List<string> connected = new();\n",
    "\n",
    "    public string ToStr() {\n",
    "        string ret = $\"{this.name}: | \";\n",
    "        foreach (var c in this.connected) {\n",
    "            ret = $\"{ret}{c} \";\n",
    "        }\n",
    "\n",
    "        return ret;\n",
    "    }\n",
    "}\n",
    "\n",
    "void PrintCaves(List<Cave> caves){\n",
    "    foreach (var cave in caves) {\n",
    "        // Console.Write($\"{cave.name}: | \");\n",
    "        // foreach (var c in cave.connected) {\n",
    "        //     Console.Write($\"{c} \");\n",
    "        // }\n",
    "        // Console.WriteLine();\n",
    "        Console.WriteLine(cave.ToStr());\n",
    "    }\n",
    "    Console.WriteLine();\n",
    "}"
   ]
  },
  {
   "cell_type": "code",
   "execution_count": null,
   "metadata": {
    "dotnet_interactive": {
     "language": "csharp"
    }
   },
   "outputs": [
    {
     "name": "stdout",
     "output_type": "stream",
     "text": [
      "EO: | jc ek end ds tm jy \r\n",
      "jc: | EO jy tm mg ek FI \r\n",
      "end: | tm EO \r\n",
      "tm: | end jc EO ek \r\n",
      "jy: | FI jc mg start EO ek \r\n",
      "FI: | jy start mg jc \r\n",
      "ek: | EO mg jc tm jy LT \r\n",
      "mg: | ek jy FI jc start \r\n",
      "start: | FI jy mg \r\n",
      "ds: | EO \r\n",
      "LT: | ek \r\n",
      "\r\n"
     ]
    }
   ],
   "source": [
    "List<Cave> caves = new();\n",
    "\n",
    "foreach (var line in raw_lines){\n",
    "    string[] s = line.Split(\"-\");\n",
    "    // Console.WriteLine($\"{s[0]} -- {s[1]}\");\n",
    "    for (int i=0;i<2;i++) {\n",
    "        string c = s[i];\n",
    "        int index =caves.FindIndex(x=>x.name == c);\n",
    "        Cave cave;\n",
    "        if (index == -1) {\n",
    "            cave = new ();\n",
    "            cave.name = c;\n",
    "            cave.isBig = (c.ToUpper() == c);\n",
    "            cave.connected.Add(s[1-i]);\n",
    "            caves.Add(cave);\n",
    "            // Console.WriteLine($\"{index}  {cave.ToStr()}\");\n",
    "        } else {\n",
    "            cave = caves[index];\n",
    "            cave.connected.Add(s[1-i]);\n",
    "            // Console.WriteLine($\"{index}  {cave.ToStr()}\");\n",
    "        }\n",
    "    }\n",
    "}\n",
    "\n",
    "PrintCaves(caves);"
   ]
  },
  {
   "cell_type": "code",
   "execution_count": null,
   "metadata": {
    "dotnet_interactive": {
     "language": "csharp"
    }
   },
   "outputs": [
    {
     "name": "stdout",
     "output_type": "stream",
     "text": [
      "5228"
     ]
    }
   ],
   "source": [
    "//12A\n",
    "List<string> steps = new();\n",
    "int indexStart =caves.FindIndex(x=>x.name == \"start\");\n",
    "\n",
    "void StepThrough(Cave cave, string step){\n",
    "    string step_old = step;\n",
    "    step = $\"{step}{cave.name}\";\n",
    "    if (cave.name == \"end\") {\n",
    "        // Console.WriteLine($\"{step}\");\n",
    "        steps.Add(step);\n",
    "        return;\n",
    "    }\n",
    "\n",
    "    if (!cave.isBig && step_old.Contains(cave.name)) {\n",
    "        // Console.WriteLine($\"[B Back] {step} {cave.ToStr()}\");\n",
    "        return;\n",
    "    }\n",
    "\n",
    "    // Console.WriteLine($\"[C] {step} {cave.ToStr()}\");\n",
    "\n",
    "    foreach (var c in cave.connected){\n",
    "        string s = $\"{step},\";\n",
    "        StepThrough(caves[caves.FindIndex(x=>x.name == c)],s);\n",
    "    }\n",
    "}\n",
    "\n",
    "StepThrough(caves[indexStart], \"\");\n",
    "\n",
    "Console.Write(steps.Count());\n",
    "// steps.Sort();\n",
    "// steps"
   ]
  },
  {
   "cell_type": "code",
   "execution_count": null,
   "metadata": {
    "dotnet_interactive": {
     "language": "csharp"
    }
   },
   "outputs": [
    {
     "name": "stdout",
     "output_type": "stream",
     "text": [
      "131228\r\n"
     ]
    }
   ],
   "source": [
    "//12B\n",
    "List<string> steps = new();\n",
    "int indexStart =caves.FindIndex(x=>x.name == \"start\");\n",
    "\n",
    "void StepThrough(Cave cave, string step){\n",
    "    string step_old = step;\n",
    "    step = $\"{step}{cave.name}\";\n",
    "    if (cave.name == \"end\") {\n",
    "        // Console.WriteLine($\"{step}\");\n",
    "        steps.Add(step);\n",
    "        return;\n",
    "    }\n",
    "\n",
    "    if (!cave.isBig && step_old.Contains(cave.name)) {\n",
    "        // Console.WriteLine($\"[B Back] {step} {cave.ToStr()}\");\n",
    "        return;\n",
    "    }\n",
    "\n",
    "    // Console.WriteLine($\"[C] {step} {cave.ToStr()}\");\n",
    "\n",
    "    foreach (var c in cave.connected){\n",
    "        string s = $\"{step},\";\n",
    "        StepThrough(caves[caves.FindIndex(x=>x.name == c)],s);\n",
    "    }\n",
    "}\n",
    "\n",
    "// PrintCaves(caves);\n",
    "\n",
    "List<string> caveNames = new();\n",
    "foreach (var c in caves) {\n",
    "    if (c.name == \"start\" || c.name == \"end\" || c.isBig){\n",
    "        continue;\n",
    "    }\n",
    "    caveNames.Add(c.name);\n",
    "}\n",
    "\n",
    "\n",
    "foreach (var cName in caveNames) {\n",
    "\n",
    "    Cave c = caves[caves.FindIndex(x=>x.name == cName)];\n",
    "    Cave copy = new();\n",
    "\n",
    "    copy.name = $\"{c.name}_{c.name}\";\n",
    "    copy.originalName = c.name;\n",
    "    // Console.WriteLine(copy.name);\n",
    "    copy.isBig = c.isBig;\n",
    "    copy.connected = c.connected;\n",
    "    foreach (var cave in caves){\n",
    "        if (cave.connected.Contains(c.name)) {\n",
    "            cave.connected.Add(copy.name);\n",
    "        }\n",
    "    }\n",
    "    caves.Add(copy);\n",
    "    // PrintCaves(caves);\n",
    "\n",
    "    StepThrough(caves[indexStart], \"\");\n",
    "\n",
    "    foreach (var cave in caves){\n",
    "        if (cave.connected.Contains(copy.name)) {\n",
    "            cave.connected.Remove(copy.name);\n",
    "        }\n",
    "    }\n",
    "\n",
    "    caves.Remove(copy);\n",
    "    // PrintCaves(caves);\n",
    "\n",
    "\n",
    "    for (int i=0;i<steps.Count();i++){\n",
    "        if (steps[i].Contains(copy.name)) {\n",
    "            steps[i] = steps[i].Replace(copy.name, copy.originalName);\n",
    "        }\n",
    "    }\n",
    "    \n",
    "    // break;\n",
    "}\n",
    "\n",
    "\n",
    "\n",
    "// Console.WriteLine(steps.Count());\n",
    "\n",
    "// for (int i=0;i<steps.Count();i++){\n",
    "//     if (steps[i].Contains(copy.originalName)) {\n",
    "//         steps[i] = steps[i].Replace(copy.name, copy.originalName);\n",
    "//     }\n",
    "// }\n",
    "steps = steps.Distinct().ToList();\n",
    "Console.WriteLine(steps.Count());\n",
    "\n",
    "steps.Sort();\n",
    "// steps"
   ]
  }
 ],
 "metadata": {
  "kernelspec": {
   "display_name": ".NET (C#)",
   "language": "C#",
   "name": ".net-csharp"
  },
  "language_info": {
   "name": "C#"
  }
 },
 "nbformat": 4,
 "nbformat_minor": 2
}
